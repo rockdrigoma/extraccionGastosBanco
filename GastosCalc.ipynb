{
  "nbformat": 4,
  "nbformat_minor": 0,
  "metadata": {
    "colab": {
      "provenance": []
    },
    "kernelspec": {
      "name": "python3",
      "display_name": "Python 3"
    },
    "language_info": {
      "name": "python"
    }
  },
  "cells": [
    {
      "cell_type": "markdown",
      "source": [
        "# EXTRACTOR DE GASTOS DE ESTADO DE CUENTA BBVA\n",
        "\n",
        "Este es un script que permite extraer los renglones de gastos, pagos, devoluciones y meses sin intereses de un estado de cuenta de BBVA Mexico.\n",
        "\n",
        "También intenta etiquetar algunos conceptos y crear una gráfica para visualizar en qué rubros se ha estado gastando más.\n",
        "\n",
        "Recuerda colocar los estados de cuenta en formato PDF en el mismo directorio en el que este script se encuentra."
      ],
      "metadata": {
        "id": "qVc-rloL5B0o"
      }
    },
    {
      "cell_type": "markdown",
      "source": [
        "## 1. Primero instalamos los paquetes necesarios"
      ],
      "metadata": {
        "id": "LAIhq4x340eZ"
      }
    },
    {
      "cell_type": "code",
      "source": [
        "!sudo apt install build-essential libpoppler-cpp-dev pkg-config python3-dev\n",
        "!pip install pandas matplotlib",
        "!pip install pdftotext"
      ],
      "metadata": {
        "id": "6vOBrfbovNHr"
      },
      "execution_count": null,
      "outputs": []
    },
    {
      "cell_type": "markdown",
      "source": [
        "## 2. Establecemos las opciones de visualización"
      ],
      "metadata": {
        "id": "tDsSwl795v3c"
      }
    },
    {
      "cell_type": "code",
      "source": [
        "import pandas as pd\n",
        "pd.options.display.max_rows = None\n",
        "pd.options.display.width = None\n",
        "pd.options.display.max_columns = None\n",
        "pd.options.display.max_colwidth = None\n",
        "pd.options.display.max_info_columns = 100\n",
        "pd.options.display.precision = 5\n",
        "pd.options.display.float_format = '{:.1f}'.format"
      ],
      "metadata": {
        "id": "kP383BIljm_d"
      },
      "execution_count": null,
      "outputs": []
    },
    {
      "cell_type": "code",
      "source": [
        "pd.set_option('display.expand_frame_repr', False)"
      ],
      "metadata": {
        "id": "st6zc9qq63a1"
      },
      "execution_count": null,
      "outputs": []
    },
    {
      "cell_type": "markdown",
      "source": [
        "## 3. Definimos las reglas de extracción como expresiones regulares. Estas pueden requerir actualización, modificación o borrado dependiendo si BBVA cambia su formato de estado de cuenta."
      ],
      "metadata": {
        "id": "zT-ramR853Dp"
      }
    },
    {
      "cell_type": "code",
      "source": [
        "import re\n",
        "import os\n",
        "import pdftotext\n",
        "\n",
        "gastos = []\n",
        "devoluciones = []\n",
        "mensualidades = []\n",
        "meses_sin_intereses = []\n",
        "pago_tarjeta = []\n",
        "\n",
        "not_matching = []\n",
        "trans_pat_1 = (\n",
        "        r'(?P<date1>\\d+/\\d+/\\d+)\\s*'\n",
        "        r'(?P<date2>\\d+/\\d+/\\d+)\\s*'\n",
        "        r'(?P<description>[\\.\\/\\w0-9\\* ]+?)\\s*'\n",
        "        r'(?P<RFC>[A-Z]{3,4}[ ]?[0-9]{6}[A-Z0-9]{3})\\s*'\n",
        "        r'(?P<CARD>\\*{6}[0-9]{4})\\s*'\n",
        "        r'\\$\\s*'\n",
        "        r'(?P<CANTIDAD>[0-9,]{1,7}\\.[0-9]{1,4})'\n",
        ")\n",
        "\n",
        "trans_pat_2 = (\n",
        "    r'(?P<date1>\\d+-\\d+-\\d+)\\s*'\n",
        "    r'(?P<date2>///[0-9]{2})\\s*'\n",
        "    r'(?P<description>[\\.\\/\\w0-9\\* ]+?)\\s*'\n",
        "    r'(?P<RFC>[A-Z]{3,4}[ ]?[0-9]{6}[A-Z0-9]{3})\\s*'\n",
        "    r'(?P<CARD>\\*{6}[0-9]{4})\\s*'\n",
        "    r'\\$\\s*'\n",
        "    r'(?P<CANTIDAD>[0-9,]{1,7}\\.[0-9]{1,4})'\n",
        ")\n",
        "\n",
        "trans_pat_3 = (\n",
        "    r'(?P<date1>\\d+/\\d+/\\d+)\\s*'\n",
        "    r'(?P<date2>\\d+/\\d+/\\d+)\\s*'\n",
        "    r'(?P<description>[\\.\\/\\w0-9\\* ]+?)\\s*'\n",
        "    r'(?P<RFC>[A-Z]{3,4}[ ]?[0-9]{6}[A-Z0-9]{3})\\s*'\n",
        "    r'(?P<CARD>\\*{6}[0-9]{4})\\s*'\n",
        "    r'\\$\\s*'\n",
        "    r'(?P<CANTIDAD>[0-9,]{1,7}\\.[0-9]{1,4})'\n",
        ")\n",
        "\n",
        "trans_pat_4 = (\n",
        "    r'(?P<date1>\\d+/\\d+/\\d+)\\s*'\n",
        "    r'(?P<date2>\\d+/\\d+/\\d+)\\s*'\n",
        "    r'(?P<description>[\\.\\/\\w0-9\\* ]+?)\\s*'\n",
        "    r'(?P<RFC>[A-Z]{3,4}[ ]?[0-9]{6}[A-Z0-9]{3})\\s*'\n",
        "    r'(?P<CARD>\\*{6}[0-9]{4})\\s*'\n",
        "    r'\\$\\s*'\n",
        "    r'(?P<CANTIDAD>[0-9,]{1,7}\\.[0-9]{1,4}-)'\n",
        ")\n",
        "\n",
        "trans_pat_5 = (\n",
        "    r'(?P<date1>\\d+-\\d+-\\d+)\\s*'\n",
        "    r'(?P<date2>///[0-9]{2})\\s*'\n",
        "    r'(?P<description>[\\.\\/\\w0-9\\* ]+?)\\s*'\n",
        "    r'(?P<CARD>\\*{6}[0-9]{4})\\s*'\n",
        "    r'\\$\\s*'\n",
        "    r'(?P<CANTIDAD>[0-9,]{1,7}\\.[0-9]{1,4})'\n",
        ")\n",
        "\n",
        "trans_pat_6 = (\n",
        "    r'(?P<date1>\\d+-\\d+-\\d+)\\s*'\n",
        "    r'(?P<date2>///[0-9]{2})\\s*'\n",
        "    r'(?P<description>[\\.\\/\\w0-9\\* ]+?)\\s*'\n",
        "    r'\\$\\s*'\n",
        "    r'(?P<CANTIDAD>[0-9,]{1,7}\\.[0-9]{1,4})'\n",
        ")\n",
        "\n",
        "trans_pat_7 = (\n",
        "    r'(?P<date1>\\d+\\/\\d+\\/\\d+)\\s*'\n",
        "    r'(?P<date2>\\d+\\/\\d+\\/\\d+)\\s*'\n",
        "    r'(?P<description>[\\.\\/\\w0-9\\* ]+?)\\s*'\n",
        "    r'\\$\\s*'\n",
        "    r'(?P<CANTIDAD>[0-9,]{1,7}\\.[0-9]{1,4})'\n",
        ")\n",
        "\n",
        "trans_pat_1_2 = (\n",
        "        r'(?P<date1>\\d+/\\d+/\\d+)\\s*'\n",
        "        r'(?P<date2>\\d+/\\d+/\\d+)\\s*'\n",
        "        r'(?P<description>[\\.\\/\\w0-9\\* ]+?)\\s*'\n",
        "        r'(?P<RFC>[A-Z]{3,4}[ ]?[0-9]{6}[A-Z0-9]{3})\\s*'\n",
        "        r'(?P<CARD>\\*{6}[0-9]{4})\\s*'\n",
        "        r'\\$\\s*'\n",
        "        r'(?P<CANTIDAD>[0-9,]{1,7}\\.[0-9]{1,4}-)'\n",
        ")\n",
        "\n",
        "trans_pat_2_2 = (\n",
        "    r'(?P<date1>\\d+-\\d+-\\d+)\\s*'\n",
        "    r'(?P<date2>///[0-9]{2})\\s*'\n",
        "    r'(?P<description>[\\.\\/\\w0-9\\* ]+?)\\s*'\n",
        "    r'(?P<RFC>[A-Z]{3,4}[ ]?[0-9]{6}[A-Z0-9]{3})\\s*'\n",
        "    r'(?P<CARD>\\*{6}[0-9]{4})\\s*'\n",
        "    r'\\$\\s*'\n",
        "    r'(?P<CANTIDAD>[0-9,]{1,7}\\.[0-9]{1,4}-)'\n",
        ")\n",
        "\n",
        "trans_pat_3_2 = (\n",
        "    r'(?P<date1>\\d+/\\d+/\\d+)\\s*'\n",
        "    r'(?P<date2>\\d+/\\d+/\\d+)\\s*'\n",
        "    r'(?P<description>[\\.\\/\\w0-9\\* ]+?)\\s*'\n",
        "    r'(?P<RFC>[A-Z]{3,4}[ ]?[0-9]{6}[A-Z0-9]{3})\\s*'\n",
        "    r'(?P<CARD>\\*{6}[0-9]{4})\\s*'\n",
        "    r'\\$\\s*'\n",
        "    r'(?P<CANTIDAD>[0-9,]{1,7}\\.[0-9]{1,4}-)'\n",
        ")\n",
        "\n",
        "trans_pat_5_2 = (\n",
        "    r'(?P<date1>\\d+-\\d+-\\d+)\\s*'\n",
        "    r'(?P<date2>///[0-9]{2})\\s*'\n",
        "    r'(?P<description>[\\.\\/\\w0-9\\* ]+?)\\s*'\n",
        "    r'(?P<CARD>\\*{6}[0-9]{4})\\s*'\n",
        "    r'\\$\\s*'\n",
        "    r'(?P<CANTIDAD>[0-9,]{1,7}\\.[0-9]{1,4}-)'\n",
        ")\n",
        "\n",
        "trans_pat_6_2 = (\n",
        "    r'(?P<date1>\\d+-\\d+-\\d+)\\s*'\n",
        "    r'(?P<date2>///[0-9]{2})\\s*'\n",
        "    r'(?P<description>[\\.\\/\\w0-9\\* ]+?)\\s*'\n",
        "    r'\\$\\s*'\n",
        "    r'(?P<CANTIDAD>[0-9,]{1,7}\\.[0-9]{1,4}-)'\n",
        ")\n",
        "\n",
        "trans_pat_6_3 = (\n",
        "    r'(?P<date1>\\d+-\\d+-\\d+)\\s*'\n",
        "    r'(?P<date2>///[0-9]{2})\\s*'\n",
        "    r'(?P<description>[\\.\\/\\w0-9\\* ]+?)\\s*'\n",
        "    r'\\$\\s*'\n",
        "    r'(?P<CANTIDAD>[0-9,]{1,7}\\.[0-9]{1,4})'\n",
        ")\n",
        "\n",
        "trans_pat_7_2 = (\n",
        "    r'(?P<date1>\\d+/\\d+/\\d+)\\s*'\n",
        "    r'(?P<date2>\\d+/\\d+/\\d+)\\s*'\n",
        "    r'(?P<description>[\\.\\/\\w0-9\\* ]+?)\\s*'\n",
        "    r'\\$\\s*'\n",
        "    r'(?P<CANTIDAD>[0-9,]{1,7}\\.[0-9]{1,4}-)'\n",
        ")\n",
        "\n",
        "trans_pat_8 = (\n",
        "    r'(?P<date1>\\d+/\\d+/\\d+)\\s*'\n",
        "    r'(?P<description>[\\.\\/\\w0-9\\* ]+?)\\s*'\n",
        "    r'\\$\\s*(?P<TOTAL>[0-9,]{1,7}\\.[0-9]{1,4})\\s*'\n",
        "    r'\\$\\s*(?P<PARCIAL>[0-9,]{1,7}\\.[0-9]{1,4})\\s*'\n",
        "    r'(?P<MENSUALIDAD>[0-9]{2} de [0-9]{2})\\s*'\n",
        "    r'\\$\\s*'\n",
        "    r'(?P<RESTANTE>[0-9,]{1,7}\\.[0-9]{1,4})'\n",
        ")\n",
        "\n"
      ],
      "metadata": {
        "id": "I2qjwHQOmw-y"
      },
      "execution_count": null,
      "outputs": []
    },
    {
      "cell_type": "markdown",
      "source": [
        "## 4. Comenzamos la lectura de PDFs. Si se quiere extraer sólo de un PDF, se modifica el nombre a algo más particular como 'estadoCuentaSeptiembre2024'. Si se quiere extraer lo de varios PDFs se modifica como algo más general que tengan en común los nombres de todos los PDFs como 'estadoCuenta'."
      ],
      "metadata": {
        "id": "2sVBxxWr6nGs"
      }
    },
    {
      "cell_type": "code",
      "source": [
        "nombre_archivos = 'bbvasept.pdf' #cambia el contenido de este valor de acuerdo al nombre de tus archivos\n",
        "count = 0\n",
        "for i in os.listdir():\n",
        "  if nombre_archivos in i:\n",
        "    with open(f\"/content/{i}\", \"rb\") as file:\n",
        "      pdf = pdftotext.PDF(file, physical=True)\n",
        "      for i, page in enumerate(pdf):\n",
        "        first_page = pdf[i]\n",
        "        lines = first_page.split(\"\\n\")\n",
        "        for line in lines:\n",
        "          count += 1\n",
        "          line = line.strip()\n",
        "          line = line.replace(',', '')\n",
        "          match_1 = re.search(pattern=trans_pat_1, string=line)\n",
        "          match_2 = re.search(pattern=trans_pat_2, string=line)\n",
        "          match_3 = re.search(pattern=trans_pat_3, string=line)\n",
        "          match_4 = re.search(pattern=trans_pat_4, string=line)\n",
        "          match_5 = re.search(pattern=trans_pat_5, string=line)\n",
        "          match_6 = re.search(pattern=trans_pat_6, string=line)\n",
        "          match_7 = re.search(pattern=trans_pat_7, string=line)\n",
        "          match_1_2 = re.search(pattern=trans_pat_1_2, string=line)\n",
        "          match_2_2 = re.search(pattern=trans_pat_2_2, string=line)\n",
        "          match_3_2 = re.search(pattern=trans_pat_3_2, string=line)\n",
        "          match_5_2 = re.search(pattern=trans_pat_5_2, string=line)\n",
        "          match_6_2 = re.search(pattern=trans_pat_6_2, string=line)\n",
        "          match_6_3 = re.search(pattern=trans_pat_6_3, string=line)\n",
        "          match_7_2 = re.search(pattern=trans_pat_7_2, string=line)\n",
        "          match_8 = re.search(pattern=trans_pat_8, string=line)\n",
        "          if 'S/I' in line or 'MSI' in line:\n",
        "            if match_7:\n",
        "              mensualidades.append(match_7.groupdict())\n",
        "            elif match_6_3:\n",
        "              mensualidades.append(match_6_3.groupdict())\n",
        "            else:\n",
        "              not_matching.append(line)\n",
        "          elif 'BMOVIL.PAGO TDC' in line:\n",
        "            if match_1:\n",
        "              pago_tarjeta.append(match_1.groupdict())\n",
        "            elif match_2:\n",
        "              pago_tarjeta.append(match_2.groupdict())\n",
        "            elif match_1:\n",
        "              pago_tarjeta.append(match_1.groupdict())\n",
        "            elif match_3:\n",
        "              pago_tarjeta.append(match_3.groupdict())\n",
        "            elif match_5:\n",
        "              pago_tarjeta.append(match_5.groupdict())\n",
        "            elif match_6:\n",
        "              pago_tarjeta.append(match_6.groupdict())\n",
        "            elif match_7:\n",
        "              pago_tarjeta.append(match_7.groupdict())\n",
        "            else:\n",
        "              not_matching.append(line)\n",
        "          elif match_4:\n",
        "            devoluciones.append(match_4.groupdict())\n",
        "          elif match_1_2:\n",
        "            devoluciones.append(match_1_2.groupdict())\n",
        "          elif match_2_2:\n",
        "            devoluciones.append(match_2_2.groupdict())\n",
        "          elif match_3_2:\n",
        "            devoluciones.append(match_3_2.groupdict())\n",
        "          elif match_5_2:\n",
        "            devoluciones.append(match_5_2.groupdict())\n",
        "          elif match_6_2:\n",
        "            devoluciones.append(match_6_2.groupdict())\n",
        "          elif match_7_2:\n",
        "            devoluciones.append(match_7_2.groupdict())\n",
        "          elif match_2:\n",
        "            gastos.append(match_2.groupdict())\n",
        "          elif match_1:\n",
        "            gastos.append(match_1.groupdict())\n",
        "          elif match_3:\n",
        "            gastos.append(match_3.groupdict())\n",
        "          elif match_5:\n",
        "            gastos.append(match_5.groupdict())\n",
        "          elif match_6:\n",
        "            gastos.append(match_6.groupdict())\n",
        "          elif match_7:\n",
        "            gastos.append(match_7.groupdict())\n",
        "          elif match_8:\n",
        "            meses_sin_intereses.append(match_8.groupdict())\n",
        "          else:\n",
        "            not_matching.append(line)"
      ],
      "metadata": {
        "id": "fhlj-VSI6kR2"
      },
      "execution_count": null,
      "outputs": []
    },
    {
      "cell_type": "markdown",
      "source": [
        "Este es el número total de renglones revisados"
      ],
      "metadata": {
        "id": "BNebXA4c7iGR"
      }
    },
    {
      "cell_type": "code",
      "source": [
        "count"
      ],
      "metadata": {
        "id": "0Vsx-zuQQrj_"
      },
      "execution_count": null,
      "outputs": []
    },
    {
      "cell_type": "markdown",
      "source": [
        "Total de gastos encontrados"
      ],
      "metadata": {
        "id": "mZjZniOY7qAW"
      }
    },
    {
      "cell_type": "code",
      "source": [
        "len(gastos)"
      ],
      "metadata": {
        "id": "lFp9z0Ef3QbP"
      },
      "execution_count": null,
      "outputs": []
    },
    {
      "cell_type": "markdown",
      "source": [
        "Total de devoluciones"
      ],
      "metadata": {
        "id": "H4pmkqe37sx_"
      }
    },
    {
      "cell_type": "code",
      "source": [
        "len(devoluciones)"
      ],
      "metadata": {
        "id": "Re3aIStg4-px"
      },
      "execution_count": null,
      "outputs": []
    },
    {
      "cell_type": "markdown",
      "source": [
        "Total cargos de meses sin intereses detectados a pagar este mes"
      ],
      "metadata": {
        "id": "kRtan6067u45"
      }
    },
    {
      "cell_type": "code",
      "source": [
        "len(mensualidades)"
      ],
      "metadata": {
        "id": "0J6o4wTy8W6h"
      },
      "execution_count": null,
      "outputs": []
    },
    {
      "cell_type": "markdown",
      "source": [
        "Total de renglones que fueron ignorados por las reglas"
      ],
      "metadata": {
        "id": "zJjFYylc7z0i"
      }
    },
    {
      "cell_type": "code",
      "source": [
        "len(not_matching)"
      ],
      "metadata": {
        "id": "EANI_6c89kNy"
      },
      "execution_count": null,
      "outputs": []
    },
    {
      "cell_type": "markdown",
      "source": [
        "Total de pagos a capital hechos"
      ],
      "metadata": {
        "id": "yao2D7zO79Tg"
      }
    },
    {
      "cell_type": "code",
      "source": [
        "len(pago_tarjeta)"
      ],
      "metadata": {
        "id": "9SOIUANXmHFq"
      },
      "execution_count": null,
      "outputs": []
    },
    {
      "cell_type": "markdown",
      "source": [
        "Total de casos que se encuentran a meses sin intereses"
      ],
      "metadata": {
        "id": "Tma98Y_C8Epf"
      }
    },
    {
      "cell_type": "code",
      "source": [
        "len(meses_sin_intereses)"
      ],
      "metadata": {
        "id": "_Rbmqp93zeOJ"
      },
      "execution_count": null,
      "outputs": []
    },
    {
      "cell_type": "markdown",
      "source": [
        "Total de renglones categorizados, si no coincide con el count de arriba, significa que el script fallo en leer algunos renglones"
      ],
      "metadata": {
        "id": "7G_57HpQ8V8C"
      }
    },
    {
      "cell_type": "code",
      "source": [
        "len(gastos)+len(devoluciones)+len(mensualidades)+len(not_matching)+len(pago_tarjeta)+len(meses_sin_intereses)"
      ],
      "metadata": {
        "id": "r5ITJDmLZEzO"
      },
      "execution_count": null,
      "outputs": []
    },
    {
      "cell_type": "markdown",
      "source": [
        "# 5. Comenzamos la carga de cada rubro:\n",
        "* Gastos: Lo que pagaste con tu tarjeta\n",
        "* Devoluciones: Cosas que pagaste pero que fueron devueltas a tu tarjeta\n",
        "* Mensualidades: Partes x de n mensualidades a pagar este mes\n",
        "* Meses sin intereses: Lista de meses sin intereses\n",
        "* Pagos a tarjeta: Pagos que hiciste a tu tarjeta desde la app movil"
      ],
      "metadata": {
        "id": "LoBGGH5J8hVD"
      }
    },
    {
      "cell_type": "code",
      "source": [
        "import pandas as pd\n",
        "gastos = pd.DataFrame(gastos)\n",
        "devoluciones = pd.DataFrame(devoluciones)\n",
        "mensualidades = pd.DataFrame(mensualidades)\n",
        "meses_sin_intereses = pd.DataFrame(meses_sin_intereses)\n",
        "pago_tarjeta = pd.DataFrame(pago_tarjeta)"
      ],
      "metadata": {
        "id": "RBZPV0BWBQvJ"
      },
      "execution_count": null,
      "outputs": []
    },
    {
      "cell_type": "code",
      "source": [
        "gastos['CANTIDAD'] = gastos['CANTIDAD'].astype(float)\n",
        "gastos['date1'] = pd.to_datetime(gastos['date1'], format='mixed')\n",
        "gastos['CARD'] = gastos['CARD'].fillna('NO_CARD')\n",
        "gastos['RFC'] = gastos['RFC'].fillna('NO_RFC')\n",
        "if len(devoluciones) > 0:\n",
        "  devoluciones['CANTIDAD'] = devoluciones['CANTIDAD'].str.replace('-', '')\n",
        "  devoluciones['CANTIDAD'] = devoluciones['CANTIDAD'].astype(float)\n",
        "  devoluciones['date1'] = pd.to_datetime(devoluciones['date1'], format='mixed')\n",
        "  #devoluciones['CARD'] = devoluciones['CARD'].fillna('NO_CARD')\n",
        "  #devoluciones['RFC'] = devoluciones['RFC'].fillna('NO_RFC')\n",
        "meses_sin_intereses['TOTAL'] = meses_sin_intereses['TOTAL'].astype(float)\n",
        "meses_sin_intereses['PARCIAL'] = meses_sin_intereses['PARCIAL'].astype(float)\n",
        "meses_sin_intereses['RESTANTE'] = meses_sin_intereses['RESTANTE'].astype(float)\n",
        "mensualidades['CANTIDAD'] = mensualidades['CANTIDAD'].astype(float)\n",
        "pago_tarjeta['CANTIDAD'] = pago_tarjeta['CANTIDAD'].astype(float)"
      ],
      "metadata": {
        "id": "zniSv6srqrj6"
      },
      "execution_count": null,
      "outputs": []
    },
    {
      "cell_type": "markdown",
      "source": [
        "Total restante que te queda por pagar de todos tus meses sin intereses, no todo es a pagar este mes"
      ],
      "metadata": {
        "id": "HQPT1WL_965g"
      }
    },
    {
      "cell_type": "code",
      "source": [
        "meses_sin_intereses['RESTANTE'].sum()"
      ],
      "metadata": {
        "id": "AK4qYP9NEZJA"
      },
      "execution_count": null,
      "outputs": []
    },
    {
      "cell_type": "markdown",
      "source": [
        "Total de compras que realizaste este mes"
      ],
      "metadata": {
        "id": "77oscGKi-HEj"
      }
    },
    {
      "cell_type": "code",
      "source": [
        "gastos['CANTIDAD'].sum()"
      ],
      "metadata": {
        "id": "qOXEYh2oTNTd"
      },
      "execution_count": null,
      "outputs": []
    },
    {
      "cell_type": "markdown",
      "source": [
        "Total de pagos a tarjeta hechos por devoluciones"
      ],
      "metadata": {
        "id": "_sbTP60N-PF3"
      }
    },
    {
      "cell_type": "code",
      "source": [
        "if len(devoluciones) > 0:\n",
        "  devoluciones['CANTIDAD'].sum()"
      ],
      "metadata": {
        "id": "Pq7vt-O7Zy_F"
      },
      "execution_count": null,
      "outputs": []
    },
    {
      "cell_type": "markdown",
      "source": [
        "Total de todas las mensualidades a pagar este mes"
      ],
      "metadata": {
        "id": "WBAKAglX-Uwz"
      }
    },
    {
      "cell_type": "code",
      "source": [
        "mensualidades['CANTIDAD'].sum()"
      ],
      "metadata": {
        "id": "Fg3D8WEhOWPP"
      },
      "execution_count": null,
      "outputs": []
    },
    {
      "cell_type": "markdown",
      "source": [
        "Total de pagos a tarjeta realizados, usualmente es lo que pagaste para saldar tu tarjeta en el periodo pasado"
      ],
      "metadata": {
        "id": "NpW8Tnzg-fZ-"
      }
    },
    {
      "cell_type": "code",
      "source": [
        "pago_tarjeta['CANTIDAD'].sum()"
      ],
      "metadata": {
        "id": "n_ZdEwd91e7A"
      },
      "execution_count": null,
      "outputs": []
    },
    {
      "cell_type": "markdown",
      "source": [
        "Lista de gastos del período de mayor a menor agrupados por RFC y descripción"
      ],
      "metadata": {
        "id": "45iqYANI-ouP"
      }
    },
    {
      "cell_type": "code",
      "source": [
        "gastos.groupby(['RFC', 'description'])['CANTIDAD'].sum().sort_values(ascending=False)"
      ],
      "metadata": {
        "id": "kX_fRIyGaf1y"
      },
      "execution_count": null,
      "outputs": []
    },
    {
      "cell_type": "markdown",
      "source": [
        "Pagos realizados a capital"
      ],
      "metadata": {
        "id": "LMwW4TyvS7DF"
      }
    },
    {
      "cell_type": "code",
      "source": [
        "pago_tarjeta"
      ],
      "metadata": {
        "id": "SpXYukf9nRdv"
      },
      "execution_count": null,
      "outputs": []
    },
    {
      "cell_type": "markdown",
      "source": [
        "# 6. Intentando categorizar cada gasto utilizando la descripción o concepto del gasto\n",
        "\n",
        "Aquí se puede añadir a cada caso más descripciones si tus gastos no corresponden a los que ves\n",
        "\n",
        "Por ejemplo si en el renglón 6 tienes un gasto que crees que debería ser etiquetado como RESTAURANTES y tiene como descripción 'SANBORNS', puedes agregarlo al final del resto en el renglón 6 como:\n",
        "\n",
        "> 'SANBORNS' in row['description']\n",
        "\n"
      ],
      "metadata": {
        "id": "CaGEIIK9TBnF"
      }
    },
    {
      "cell_type": "code",
      "source": [
        "for i, row in gastos.iterrows():\n",
        "  if 'MERCADO' in row['description']:\n",
        "    gastos.loc[i, 'LABEL'] = 'MERCADO LIBRE'\n",
        "  elif 'AMAZON' in row['description']:\n",
        "    gastos.loc[i, 'LABEL'] = 'AMAZON'\n",
        "  elif 'CASSAVA' in row['description'] or 'TORTAS' in row['description'] or 'LITTLE CAESARS' in row['description'] or 'GARABATOS' in row['description'] or 'MI CABANA' in row['description'] or 'COMIDA RAPIDA' in row['description'] or 'TIERRA' in row['description'] or 'PLAZA ARTZ' in row['description'] or 'HABIA UNA RES' in row['description'] or 'UBER EATS' in row['description'] or 'STARBUCKS' in row['description']:\n",
        "    gastos.loc[i, 'LABEL'] = 'RESTAURANTES'\n",
        "  elif 'TELLO' in row['description'] or 'ATT' in row['description'] or 'CFE' in row['description'] or 'IZZI' in row['description'] or 'FINANZAS' in row['description'] or 'NETFLIX' in row['description']:\n",
        "    gastos.loc[i, 'LABEL'] = 'SERVICIOS'\n",
        "  elif 'APPLE' in row['description']:\n",
        "    gastos.loc[i, 'LABEL'] = 'APPSTORE'\n",
        "  elif 'DESPEGAR' in row['description'] or 'VOLARIS' in row['description']:\n",
        "    gastos.loc[i, 'LABEL'] = 'VUELOS'\n",
        "  elif 'EST ' in row['description'] or 'GASOL' in row['description']:\n",
        "    gastos.loc[i, 'LABEL'] = 'GASOLINA'\n",
        "  elif 'TUTAG' in row['description'] or 'LLANTAS' in row['description']:\n",
        "    gastos.loc[i, 'LABEL'] = 'AUTO'\n",
        "  elif 'MAYORISTAS' in row['description'] or 'GANDHI' in row['description'] or 'WAL MART' in row['description'] or 'MERPAGO' in row['description'] or 'PAYPAL' in row['description'] or 'aliexpress' in row['description']:\n",
        "    gastos.loc[i, 'LABEL'] = 'COMPRAS'\n",
        "  elif 'PETCO' in row['description']:\n",
        "    gastos.loc[i, 'LABEL'] = 'GATOS'\n",
        "  elif 'F AHORRO' in row['description'] or 'UROPED' in row['description'] or 'ATRYS' in row['description']:\n",
        "    gastos.loc[i, 'LABEL'] = 'MEDIC'\n",
        "  elif 'IKANO' in row['description']:\n",
        "    gastos.loc[i, 'LABEL'] = 'IKEA'\n",
        "  elif 'BERSHKA' in row['description']:\n",
        "    gastos.loc[i, 'LABEL'] = 'ROPA'\n",
        "  elif 'FERRETERIAS' in row['description']:\n",
        "    gastos.loc[i, 'LABEL'] = 'CASA'\n",
        "  elif 'SUPERCREMERIA' in row['description']:\n",
        "    gastos.loc[i, 'LABEL'] = 'ABARROTES'\n",
        "  elif 'GOOGLE' in row['description'] or 'HUGGING' in row['description'] or 'OPENAI' in row['description']:\n",
        "    gastos.loc[i, 'LABEL'] = 'TECH'\n",
        "  elif 'ABONO POR TRASP' in row['description']:\n",
        "    gastos.loc[i, 'LABEL'] = 'TRASPASO'\n",
        "  else:\n",
        "    gastos.loc[i, 'LABEL'] = 'OTROS'\n"
      ],
      "metadata": {
        "id": "mFB_gs922vBF"
      },
      "execution_count": null,
      "outputs": []
    },
    {
      "cell_type": "markdown",
      "source": [
        "# 7. Graficando los rubros por gasto mensual"
      ],
      "metadata": {
        "id": "BPjfbcobT4an"
      }
    },
    {
      "cell_type": "code",
      "source": [
        "x_ticks = []\n",
        "for l in gastos.groupby(['LABEL'])['CANTIDAD'].sum().sort_values(ascending=False).reset_index()['LABEL'].to_list():\n",
        "  x_ticks.append(gastos.loc[gastos['LABEL'] == l, 'LABEL'].to_list()[0])\n",
        "\n",
        "to_plot = gastos.groupby(['LABEL'])['CANTIDAD'].sum().sort_values(ascending=False)\n",
        "to_plot.index = x_ticks\n",
        "to_plot.plot(kind='bar', rot=85)"
      ],
      "metadata": {
        "id": "XdY_CY7XHVY4"
      },
      "execution_count": null,
      "outputs": []
    },
    {
      "cell_type": "markdown",
      "source": [
        "Visualizando gastos por RFC"
      ],
      "metadata": {
        "id": "bipI2E2xWAxA"
      }
    },
    {
      "cell_type": "code",
      "source": [
        "x_ticks = []\n",
        "for l in gastos.groupby(['RFC'])['CANTIDAD'].sum().sort_values(ascending=False).reset_index()['RFC'].to_list():\n",
        "  x_ticks.append(gastos.loc[gastos['RFC'] == l, 'RFC'].to_list()[0])\n",
        "\n",
        "to_plot = gastos.groupby(['RFC'])['CANTIDAD'].sum().sort_values(ascending=False)\n",
        "to_plot.index = x_ticks\n",
        "to_plot.plot(kind='bar', rot=85)"
      ],
      "metadata": {
        "id": "zOkUZdXKV2RY"
      },
      "execution_count": null,
      "outputs": []
    },
    {
      "cell_type": "markdown",
      "source": [
        "# 8. Gráfica de pastel de los mismos rubros"
      ],
      "metadata": {
        "id": "wDRILSK8UB9F"
      }
    },
    {
      "cell_type": "code",
      "source": [
        "to_plot.plot.pie(y='CANTIDAD', figsize=(10, 10))"
      ],
      "metadata": {
        "id": "ODTzUtKw4dZW"
      },
      "execution_count": null,
      "outputs": []
    },
    {
      "cell_type": "markdown",
      "source": [
        "# 9. Lista de gastos por rubro"
      ],
      "metadata": {
        "id": "Y31n8MhTUI4_"
      }
    },
    {
      "cell_type": "code",
      "source": [
        "gastos.groupby(['LABEL'])['CANTIDAD'].sum().sort_values(ascending=False)"
      ],
      "metadata": {
        "id": "28a9FZ8iQrcW"
      },
      "execution_count": null,
      "outputs": []
    },
    {
      "cell_type": "markdown",
      "source": [
        "# 10. Si ves que hay demasiado en OTROS, revisa ese rubro y añade las reglas como se indica en el punto 6 para colocarlos en su categoría correcta"
      ],
      "metadata": {
        "id": "1DpY5eh4UWaH"
      }
    },
    {
      "cell_type": "code",
      "source": [
        "gastos.loc[gastos['LABEL'] == 'OTROS']"
      ],
      "metadata": {
        "id": "wXA_G0qmUmnV"
      },
      "execution_count": null,
      "outputs": []
    },
    {
      "cell_type": "code",
      "source": [],
      "metadata": {
        "id": "thb3K1GhUq2E"
      },
      "execution_count": null,
      "outputs": []
    }
  ]
}
