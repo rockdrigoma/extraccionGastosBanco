{
  "nbformat": 4,
  "nbformat_minor": 0,
  "metadata": {
    "colab": {
      "provenance": [],
      "authorship_tag": "ABX9TyND9cosdN0XQAGYgrzZbAGM",
      "include_colab_link": true
    },
    "kernelspec": {
      "name": "python3",
      "display_name": "Python 3"
    },
    "language_info": {
      "name": "python"
    }
  },
  "cells": [
    {
      "cell_type": "markdown",
      "metadata": {
        "id": "view-in-github",
        "colab_type": "text"
      },
      "source": [
        "<a href=\"https://colab.research.google.com/github/rockdrigoma/extraccionGastosBanco/blob/main/GastosCalc.ipynb\" target=\"_parent\"><img src=\"https://colab.research.google.com/assets/colab-badge.svg\" alt=\"Open In Colab\"/></a>"
      ]
    },
    {
      "cell_type": "markdown",
      "source": [
        "# EXTRACTOR DE GASTOS DE ESTADO DE CUENTA BBVA\n",
        "\n",
        "Este es un script que permite extraer los renglones de gastos, pagos, devoluciones y meses sin intereses de un estado de cuenta de BBVA Mexico.\n",
        "\n",
        "También intenta etiquetar algunos conceptos utilizando un modelo de IA y crear una gráfica para visualizar en qué rubros se ha estado gastando más.\n",
        "\n",
        "Recuerda colocar los estados de cuenta en formato PDF en el mismo directorio en el que este script se encuentra. El script leerá automáticamente todo lo que tenga una extensión .PDF y se encuentre al mismo nivel que este script."
      ],
      "metadata": {
        "id": "qVc-rloL5B0o"
      }
    },
    {
      "cell_type": "markdown",
      "source": [
        "## 1. Primero instalamos los paquetes necesarios"
      ],
      "metadata": {
        "id": "LAIhq4x340eZ"
      }
    },
    {
      "cell_type": "code",
      "source": [
        "# @title\n",
        "!sudo apt install build-essential libpoppler-cpp-dev pkg-config python3-dev\n",
        "!pip install pdftotext pandas"
      ],
      "metadata": {
        "id": "6vOBrfbovNHr",
        "cellView": "code"
      },
      "execution_count": null,
      "outputs": []
    },
    {
      "cell_type": "markdown",
      "source": [
        "## 2. Establecemos las opciones de visualización"
      ],
      "metadata": {
        "id": "tDsSwl795v3c"
      }
    },
    {
      "cell_type": "code",
      "source": [
        "# @title\n",
        "import pandas as pd\n",
        "pd.options.display.max_rows = None\n",
        "pd.options.display.width = None\n",
        "pd.options.display.max_columns = None\n",
        "pd.options.display.max_colwidth = None\n",
        "pd.options.display.max_info_columns = 100\n",
        "pd.options.display.precision = 5\n",
        "pd.options.display.float_format = '{:.1f}'.format"
      ],
      "metadata": {
        "id": "kP383BIljm_d"
      },
      "execution_count": null,
      "outputs": []
    },
    {
      "cell_type": "code",
      "source": [
        "# @title\n",
        "pd.set_option('display.expand_frame_repr', False)"
      ],
      "metadata": {
        "id": "st6zc9qq63a1",
        "cellView": "form"
      },
      "execution_count": null,
      "outputs": []
    },
    {
      "cell_type": "markdown",
      "source": [
        "## 3. Definimos las reglas de extracción como expresiones regulares. Estas pueden requerir actualización, modificación o borrado dependiendo si BBVA cambia su formato de estado de cuenta."
      ],
      "metadata": {
        "id": "zT-ramR853Dp"
      }
    },
    {
      "cell_type": "code",
      "source": [
        "# @title\n",
        "import re\n",
        "import os\n",
        "import pdftotext\n",
        "\n",
        "gastos = []\n",
        "devoluciones = []\n",
        "mensualidades = []\n",
        "meses_sin_intereses = []\n",
        "pago_tarjeta = []\n",
        "\n",
        "not_matching = []\n",
        "trans_pat_1 = (\n",
        "        r'(?P<date1>\\d+/\\d+/\\d+)\\s*'\n",
        "        r'(?P<date2>\\d+/\\d+/\\d+)\\s*'\n",
        "        r'(?P<description>[-\\.\\/\\w0-9\\* ]+?)\\s*'\n",
        "        r'(?P<RFC>[A-Z]{3,4}[ ]?[0-9]{6}[A-Z0-9]{3})\\s*'\n",
        "        r'(?P<REFERENCIA>\\*{6}[0-9]{4})\\s*'\n",
        "        r'\\$\\s*'\n",
        "        r'(?P<CANTIDAD>[0-9,]{1,7}\\.[0-9]{1,4})'\n",
        ")\n",
        "\n",
        "trans_pat_2 = (\n",
        "    r'(?P<date1>\\d+-\\d+-\\d+)\\s*'\n",
        "    r'(?P<date2>///[0-9]{2})\\s*'\n",
        "    r'(?P<description>[-\\.\\/\\w0-9\\* ]+?)\\s*'\n",
        "    r'(?P<RFC>[A-Z]{3,4}[ ]?[0-9]{6}[A-Z0-9]{3})\\s*'\n",
        "    r'(?P<REFERENCIA>\\*{6}[0-9]{4})\\s*'\n",
        "    r'\\$\\s*'\n",
        "    r'(?P<CANTIDAD>[0-9,]{1,7}\\.[0-9]{1,4})'\n",
        ")\n",
        "\n",
        "trans_pat_3 = (\n",
        "    r'(?P<date1>\\d+/\\d+/\\d+)\\s*'\n",
        "    r'(?P<date2>\\d+/\\d+/\\d+)\\s*'\n",
        "    r'(?P<description>[-\\.\\/\\w0-9\\* ]+?)\\s*'\n",
        "    r'(?P<RFC>[A-Z]{3,4}[ ]?[0-9]{6}[A-Z0-9]{3})\\s*'\n",
        "    r'(?P<REFERENCIA>\\*{6}[0-9]{4})\\s*'\n",
        "    r'\\$\\s*'\n",
        "    r'(?P<CANTIDAD>[0-9,]{1,7}\\.[0-9]{1,4})'\n",
        ")\n",
        "\n",
        "trans_pat_4 = (\n",
        "    r'(?P<date1>\\d+/\\d+/\\d+)\\s*'\n",
        "    r'(?P<date2>\\d+/\\d+/\\d+)\\s*'\n",
        "    r'(?P<description>[-\\.\\/\\w0-9\\* ]+?)\\s*'\n",
        "    r'(?P<RFC>[A-Z]{3,4}[ ]?[0-9]{6}[A-Z0-9]{3})\\s*'\n",
        "    r'(?P<REFERENCIA>\\*{6}[0-9]{4})\\s*'\n",
        "    r'\\$\\s*'\n",
        "    r'(?P<CANTIDAD>[0-9,]{1,7}\\.[0-9]{1,4}-)'\n",
        ")\n",
        "\n",
        "trans_pat_5 = (\n",
        "    r'(?P<date1>\\d+-\\d+-\\d+)\\s*'\n",
        "    r'(?P<date2>///[0-9]{2})\\s*'\n",
        "    r'(?P<description>[-\\.\\/\\w0-9\\* ]+?)\\s*'\n",
        "    r'(?P<REFERENCIA>\\*{6}[0-9]{4})\\s*'\n",
        "    r'\\$\\s*'\n",
        "    r'(?P<CANTIDAD>[0-9,]{1,7}\\.[0-9]{1,4})'\n",
        ")\n",
        "\n",
        "trans_pat_6 = (\n",
        "    r'(?P<date1>\\d+-\\d+-\\d+)\\s*'\n",
        "    r'(?P<date2>///[0-9]{2})\\s*'\n",
        "    r'(?P<description>[-\\.\\/\\w0-9\\* ]+?)\\s*'\n",
        "    r'\\$\\s*'\n",
        "    r'(?P<CANTIDAD>[0-9,]{1,7}\\.[0-9]{1,4})'\n",
        ")\n",
        "\n",
        "trans_pat_7 = (\n",
        "    r'(?P<date1>\\d+\\/\\d+\\/\\d+)\\s*'\n",
        "    r'(?P<date2>\\d+\\/\\d+\\/\\d+)\\s*'\n",
        "    r'(?P<description>[-\\.\\/\\w0-9\\* ]+?)\\s*'\n",
        "    r'\\$\\s*'\n",
        "    r'(?P<CANTIDAD>[0-9,]{1,7}\\.[0-9]{1,4})'\n",
        ")\n",
        "\n",
        "\n",
        "trans_pat_7_1 = (\n",
        "    r'(?P<date1>\\d+\\/\\d+\\/\\d+)\\s*'\n",
        "    r'(?P<date2>\\d+\\/\\d+\\/\\d+)\\s*'\n",
        "    r'(?P<description>[-\\.\\/\\w0-9\\* ]+?)\\s*'\n",
        "    r'(?P<REFERENCIA>[\\*]{6}[\\d]{4})\\s*'\n",
        "    r'\\$\\s*'\n",
        "    r'(?P<CANTIDAD>[0-9,]{1,7}\\.[0-9]{1,4})'\n",
        ")\n",
        "\n",
        "trans_pat_1_2 = (\n",
        "        r'(?P<date1>\\d+/\\d+/\\d+)\\s*'\n",
        "        r'(?P<date2>\\d+/\\d+/\\d+)\\s*'\n",
        "        r'(?P<description>[-\\.\\/\\w0-9\\* ]+?)\\s*'\n",
        "        r'(?P<RFC>[A-Z]{3,4}[ ]?[0-9]{6}[A-Z0-9]{3})\\s*'\n",
        "        r'(?P<REFERENCIA>\\*{6}[0-9]{4})\\s*'\n",
        "        r'\\$\\s*'\n",
        "        r'(?P<CANTIDAD>[0-9,]{1,7}\\.[0-9]{1,4}-)'\n",
        ")\n",
        "\n",
        "trans_pat_2_2 = (\n",
        "    r'(?P<date1>\\d+-\\d+-\\d+)\\s*'\n",
        "    r'(?P<date2>///[0-9]{2})\\s*'\n",
        "    r'(?P<description>[-\\.\\/\\w0-9\\* ]+?)\\s*'\n",
        "    r'(?P<RFC>[A-Z]{3,4}[ ]?[0-9]{6}[A-Z0-9]{3})\\s*'\n",
        "    r'(?P<REFERENCIA>\\*{6}[0-9]{4})\\s*'\n",
        "    r'\\$\\s*'\n",
        "    r'(?P<CANTIDAD>[0-9,]{1,7}\\.[0-9]{1,4}-)'\n",
        ")\n",
        "\n",
        "trans_pat_3_2 = (\n",
        "    r'(?P<date1>\\d+/\\d+/\\d+)\\s*'\n",
        "    r'(?P<date2>\\d+/\\d+/\\d+)\\s*'\n",
        "    r'(?P<description>[-\\.\\/\\w0-9\\* ]+?)\\s*'\n",
        "    r'(?P<RFC>[A-Z]{3,4}[ ]?[0-9]{6}[A-Z0-9]{3})\\s*'\n",
        "    r'(?P<REFERENCIA>\\*{6}[0-9]{4})\\s*'\n",
        "    r'\\$\\s*'\n",
        "    r'(?P<CANTIDAD>[0-9,]{1,7}\\.[0-9]{1,4}-)'\n",
        ")\n",
        "\n",
        "trans_pat_5_2 = (\n",
        "    r'(?P<date1>\\d+-\\d+-\\d+)\\s*'\n",
        "    r'(?P<date2>///[0-9]{2})\\s*'\n",
        "    r'(?P<description>[-\\.\\/\\w0-9\\* ]+?)\\s*'\n",
        "    r'(?P<REFERENCIA>\\*{6}[0-9]{4})\\s*'\n",
        "    r'\\$\\s*'\n",
        "    r'(?P<CANTIDAD>[0-9,]{1,7}\\.[0-9]{1,4}-)'\n",
        ")\n",
        "\n",
        "trans_pat_6_2 = (\n",
        "    r'(?P<date1>\\d+-\\d+-\\d+)\\s*'\n",
        "    r'(?P<date2>///[0-9]{2})\\s*'\n",
        "    r'(?P<description>[-\\.\\/\\w0-9\\* ]+?)\\s*'\n",
        "    r'\\$\\s*'\n",
        "    r'(?P<CANTIDAD>[0-9,]{1,7}\\.[0-9]{1,4}-)'\n",
        ")\n",
        "\n",
        "trans_pat_6_3 = (\n",
        "    r'(?P<date1>\\d+-\\d+-\\d+)\\s*'\n",
        "    r'(?P<date2>///[0-9]{2})\\s*'\n",
        "    r'(?P<description>[-\\.\\/\\w0-9\\* ]+?)\\s*'\n",
        "    r'\\$\\s*'\n",
        "    r'(?P<CANTIDAD>[0-9,]{1,7}\\.[0-9]{1,4})'\n",
        ")\n",
        "\n",
        "trans_pat_7_2 = (\n",
        "    r'(?P<date1>\\d+/\\d+/\\d+)\\s*'\n",
        "    r'(?P<date2>\\d+/\\d+/\\d+)\\s*'\n",
        "    r'(?P<description>[-\\.\\/\\w0-9\\* ]+?)\\s*'\n",
        "    r'\\$\\s*'\n",
        "    r'(?P<CANTIDAD>[0-9,]{1,7}\\.[0-9]{1,4}-)'\n",
        ")\n",
        "\n",
        "trans_pat_8 = (\n",
        "    r'(?P<date1>\\d+/\\d+/\\d+)\\s*'\n",
        "    r'(?P<description>[-\\.\\/\\w0-9\\* ]+?)\\s*'\n",
        "    r'\\$\\s*(?P<TOTAL>[0-9,]{1,7}\\.[0-9]{1,4})\\s*'\n",
        "    r'\\$\\s*(?P<PARCIAL>[0-9,]{1,7}\\.[0-9]{1,4})\\s*'\n",
        "    r'(?P<MENSUALIDAD>[0-9]{2} de [0-9]{2})\\s*'\n",
        "    r'\\$\\s*'\n",
        "    r'(?P<RESTANTE>[0-9,]{1,7}\\.[0-9]{1,4})'\n",
        ")\n",
        "\n"
      ],
      "metadata": {
        "id": "I2qjwHQOmw-y",
        "cellView": "form"
      },
      "execution_count": null,
      "outputs": []
    },
    {
      "cell_type": "markdown",
      "source": [
        "## 4. Comenzamos la lectura de PDFs. Si se quiere extraer sólo de un PDF, se modifica el nombre a algo más particular como 'estadoCuentaSeptiembre2024'. Si se quiere extraer lo de varios PDFs se modifica como algo más general que tengan en común los nombres de todos los PDFs como 'estadoCuenta'."
      ],
      "metadata": {
        "id": "2sVBxxWr6nGs"
      }
    },
    {
      "cell_type": "code",
      "source": [
        "# @title\n",
        "nombre_archivos = '.pdf' #cambia el contenido de este valor de acuerdo al nombre de tus archivos\n",
        "count = 0\n",
        "for i in os.listdir():\n",
        "  if nombre_archivos in i:\n",
        "    print(i)\n",
        "    with open(f\"/content/{i}\", \"rb\") as file:\n",
        "      pdf = pdftotext.PDF(file, physical=True)\n",
        "      for i, page in enumerate(pdf):\n",
        "        first_page = pdf[i]\n",
        "        lines = first_page.split(\"\\n\")\n",
        "        for line in lines:\n",
        "          count += 1\n",
        "          line = line.strip()\n",
        "          line = line.replace(',', '')\n",
        "          match_1 = re.search(pattern=trans_pat_1, string=line)\n",
        "          match_2 = re.search(pattern=trans_pat_2, string=line)\n",
        "          match_3 = re.search(pattern=trans_pat_3, string=line)\n",
        "          match_4 = re.search(pattern=trans_pat_4, string=line)\n",
        "          match_5 = re.search(pattern=trans_pat_5, string=line)\n",
        "          match_6 = re.search(pattern=trans_pat_6, string=line)\n",
        "          match_7_1 = re.search(pattern=trans_pat_7_1, string=line)\n",
        "          match_7 = re.search(pattern=trans_pat_7, string=line)\n",
        "          match_1_2 = re.search(pattern=trans_pat_1_2, string=line)\n",
        "          match_2_2 = re.search(pattern=trans_pat_2_2, string=line)\n",
        "          match_3_2 = re.search(pattern=trans_pat_3_2, string=line)\n",
        "          match_5_2 = re.search(pattern=trans_pat_5_2, string=line)\n",
        "          match_6_2 = re.search(pattern=trans_pat_6_2, string=line)\n",
        "          match_6_3 = re.search(pattern=trans_pat_6_3, string=line)\n",
        "          match_7_2 = re.search(pattern=trans_pat_7_2, string=line)\n",
        "          match_8 = re.search(pattern=trans_pat_8, string=line)\n",
        "          if 'S/I' in line or 'MSI' in line:\n",
        "            if match_7_1:\n",
        "              mensualidades.append(match_7_1.groupdict())\n",
        "            elif match_7:\n",
        "              mensualidades.append(match_7.groupdict())\n",
        "            elif match_6_3:\n",
        "              mensualidades.append(match_6_3.groupdict())\n",
        "            else:\n",
        "              not_matching.append(line)\n",
        "          elif 'BMOVIL.PAGO TDC' in line:\n",
        "            if match_1:\n",
        "              pago_tarjeta.append(match_1.groupdict())\n",
        "            elif match_2:\n",
        "              pago_tarjeta.append(match_2.groupdict())\n",
        "            elif match_1:\n",
        "              pago_tarjeta.append(match_1.groupdict())\n",
        "            elif match_3:\n",
        "              pago_tarjeta.append(match_3.groupdict())\n",
        "            elif match_5:\n",
        "              pago_tarjeta.append(match_5.groupdict())\n",
        "            elif match_6:\n",
        "              pago_tarjeta.append(match_6.groupdict())\n",
        "            elif match_7:\n",
        "              pago_tarjeta.append(match_7.groupdict())\n",
        "            else:\n",
        "              not_matching.append(line)\n",
        "          elif match_4:\n",
        "            devoluciones.append(match_4.groupdict())\n",
        "          elif match_1_2:\n",
        "            devoluciones.append(match_1_2.groupdict())\n",
        "          elif match_2_2:\n",
        "            devoluciones.append(match_2_2.groupdict())\n",
        "          elif match_3_2:\n",
        "            devoluciones.append(match_3_2.groupdict())\n",
        "          elif match_5_2:\n",
        "            devoluciones.append(match_5_2.groupdict())\n",
        "          elif match_6_2:\n",
        "            devoluciones.append(match_6_2.groupdict())\n",
        "          elif match_7_2:\n",
        "            devoluciones.append(match_7_2.groupdict())\n",
        "          elif match_2:\n",
        "            gastos.append(match_2.groupdict())\n",
        "          elif match_1:\n",
        "            gastos.append(match_1.groupdict())\n",
        "          elif match_3:\n",
        "            gastos.append(match_3.groupdict())\n",
        "          elif match_5:\n",
        "            gastos.append(match_5.groupdict())\n",
        "          elif match_6:\n",
        "            gastos.append(match_6.groupdict())\n",
        "          elif match_7_1:\n",
        "            gastos.append(match_7_1.groupdict())\n",
        "          elif match_7:\n",
        "            gastos.append(match_7.groupdict())\n",
        "          elif match_8:\n",
        "            meses_sin_intereses.append(match_8.groupdict())\n",
        "          else:\n",
        "            not_matching.append(line)"
      ],
      "metadata": {
        "id": "fhlj-VSI6kR2",
        "cellView": "form"
      },
      "execution_count": null,
      "outputs": []
    },
    {
      "cell_type": "markdown",
      "source": [
        "# Este es el número total de renglones revisados"
      ],
      "metadata": {
        "id": "BNebXA4c7iGR"
      }
    },
    {
      "cell_type": "code",
      "source": [
        "# @title\n",
        "count"
      ],
      "metadata": {
        "id": "0Vsx-zuQQrj_",
        "cellView": "form"
      },
      "execution_count": null,
      "outputs": []
    },
    {
      "cell_type": "markdown",
      "source": [
        "# Total de gastos encontrados"
      ],
      "metadata": {
        "id": "mZjZniOY7qAW"
      }
    },
    {
      "cell_type": "code",
      "source": [
        "# @title\n",
        "len(gastos)"
      ],
      "metadata": {
        "id": "lFp9z0Ef3QbP",
        "cellView": "form"
      },
      "execution_count": null,
      "outputs": []
    },
    {
      "cell_type": "markdown",
      "source": [
        "# Total de devoluciones"
      ],
      "metadata": {
        "id": "H4pmkqe37sx_"
      }
    },
    {
      "cell_type": "code",
      "source": [
        "# @title\n",
        "len(devoluciones)"
      ],
      "metadata": {
        "id": "Re3aIStg4-px",
        "cellView": "form"
      },
      "execution_count": null,
      "outputs": []
    },
    {
      "cell_type": "markdown",
      "source": [
        "# Total de promociones de meses sin intereses iniciadas este mes"
      ],
      "metadata": {
        "id": "kRtan6067u45"
      }
    },
    {
      "cell_type": "code",
      "source": [
        "# @title\n",
        "len(mensualidades)"
      ],
      "metadata": {
        "id": "0J6o4wTy8W6h"
      },
      "execution_count": null,
      "outputs": []
    },
    {
      "cell_type": "markdown",
      "source": [
        "# Total de renglones que fueron ignorados por las reglas"
      ],
      "metadata": {
        "id": "zJjFYylc7z0i"
      }
    },
    {
      "cell_type": "code",
      "source": [
        "# @title\n",
        "len(not_matching)"
      ],
      "metadata": {
        "id": "EANI_6c89kNy",
        "cellView": "form"
      },
      "execution_count": null,
      "outputs": []
    },
    {
      "cell_type": "markdown",
      "source": [
        "# Total de pagos a capital hechos"
      ],
      "metadata": {
        "id": "yao2D7zO79Tg"
      }
    },
    {
      "cell_type": "code",
      "source": [
        "# @title\n",
        "len(pago_tarjeta)"
      ],
      "metadata": {
        "id": "9SOIUANXmHFq",
        "cellView": "form"
      },
      "execution_count": null,
      "outputs": []
    },
    {
      "cell_type": "markdown",
      "source": [
        "# Total de promociones que están a meses sin intereses"
      ],
      "metadata": {
        "id": "Tma98Y_C8Epf"
      }
    },
    {
      "cell_type": "code",
      "source": [
        "# @title\n",
        "len(meses_sin_intereses)"
      ],
      "metadata": {
        "id": "_Rbmqp93zeOJ"
      },
      "execution_count": null,
      "outputs": []
    },
    {
      "cell_type": "markdown",
      "source": [
        "# Total de renglones categorizados, si no coincide con el count de arriba, significa que el script fallo en leer algunos renglones"
      ],
      "metadata": {
        "id": "7G_57HpQ8V8C"
      }
    },
    {
      "cell_type": "code",
      "source": [
        "# @title\n",
        "len(gastos)+len(devoluciones)+len(mensualidades)+len(not_matching)+len(pago_tarjeta)+len(meses_sin_intereses)"
      ],
      "metadata": {
        "id": "r5ITJDmLZEzO",
        "cellView": "form"
      },
      "execution_count": null,
      "outputs": []
    },
    {
      "cell_type": "markdown",
      "source": [
        "# 5. Comenzamos la carga de cada rubro:\n",
        "* Gastos: Lo que pagaste con tu tarjeta\n",
        "* Devoluciones: Cosas que pagaste pero que devolviste y por lo tanto fueron devueltas a tu tarjeta\n",
        "* Mensualidades: Mensualidades parciales a pagar este mes\n",
        "* Meses sin intereses: Lista de todos tus meses sin intereses\n",
        "* Pagos a tarjeta: Pagos que hiciste a tu tarjeta desde la app movil"
      ],
      "metadata": {
        "id": "LoBGGH5J8hVD"
      }
    },
    {
      "cell_type": "code",
      "source": [
        "# @title\n",
        "import pandas as pd\n",
        "gastos = pd.DataFrame(gastos)\n",
        "devoluciones = pd.DataFrame(devoluciones)\n",
        "mensualidades = pd.DataFrame(mensualidades)\n",
        "meses_sin_intereses = pd.DataFrame(meses_sin_intereses)\n",
        "pago_tarjeta = pd.DataFrame(pago_tarjeta)"
      ],
      "metadata": {
        "id": "RBZPV0BWBQvJ",
        "cellView": "form"
      },
      "execution_count": null,
      "outputs": []
    },
    {
      "cell_type": "code",
      "source": [
        "# @title\n",
        "gastos['CANTIDAD'] = gastos['CANTIDAD'].astype(float)\n",
        "gastos['date1'] = pd.to_datetime(gastos['date1'], format='mixed')\n",
        "gastos['REFERENCIA'] = gastos['REFERENCIA'].fillna('NO_REF')\n",
        "gastos['RFC'] = gastos['RFC'].fillna('NO_RFC')\n",
        "if len(devoluciones) > 0:\n",
        "  devoluciones['CANTIDAD'] = devoluciones['CANTIDAD'].str.replace('-', '')\n",
        "  devoluciones['CANTIDAD'] = devoluciones['CANTIDAD'].astype(float)\n",
        "  devoluciones['date1'] = pd.to_datetime(devoluciones['date1'], format='mixed')\n",
        "  devoluciones['REFERENCIA'] = devoluciones['REFERENCIA'].fillna('NO_REF')\n",
        "  devoluciones['RFC'] = devoluciones['RFC'].fillna('NO_RFC')\n",
        "meses_sin_intereses['TOTAL'] = meses_sin_intereses['TOTAL'].astype(float)\n",
        "meses_sin_intereses['PARCIAL'] = meses_sin_intereses['PARCIAL'].astype(float)\n",
        "meses_sin_intereses['RESTANTE'] = meses_sin_intereses['RESTANTE'].astype(float)\n",
        "mensualidades['CANTIDAD'] = mensualidades['CANTIDAD'].astype(float)\n",
        "pago_tarjeta['CANTIDAD'] = pago_tarjeta['CANTIDAD'].astype(float)"
      ],
      "metadata": {
        "id": "zniSv6srqrj6",
        "cellView": "form"
      },
      "execution_count": null,
      "outputs": []
    },
    {
      "cell_type": "markdown",
      "source": [
        "# Total restante que te queda por pagar de todos tus meses sin intereses, no todo es a pagar este mes. Si colocaste más de un estado de cuenta, esta cifra no te servirá"
      ],
      "metadata": {
        "id": "HQPT1WL_965g"
      }
    },
    {
      "cell_type": "code",
      "source": [
        "# @title\n",
        "meses_sin_intereses['RESTANTE'].sum()"
      ],
      "metadata": {
        "id": "AK4qYP9NEZJA",
        "cellView": "form"
      },
      "execution_count": null,
      "outputs": []
    },
    {
      "cell_type": "markdown",
      "source": [
        "# Total de compras que realizaste este mes"
      ],
      "metadata": {
        "id": "77oscGKi-HEj"
      }
    },
    {
      "cell_type": "code",
      "source": [
        "# @title\n",
        "gastos['CANTIDAD'].sum()"
      ],
      "metadata": {
        "id": "qOXEYh2oTNTd",
        "cellView": "form"
      },
      "execution_count": null,
      "outputs": []
    },
    {
      "cell_type": "markdown",
      "source": [
        "# Total de pagos devueltos a tarjeta por devoluciones"
      ],
      "metadata": {
        "id": "_sbTP60N-PF3"
      }
    },
    {
      "cell_type": "code",
      "source": [
        "# @title\n",
        "if len(devoluciones) > 0:\n",
        "  print(devoluciones['CANTIDAD'].sum())\n",
        "else:\n",
        "  print('No hay devoluciones')"
      ],
      "metadata": {
        "id": "Pq7vt-O7Zy_F",
        "cellView": "form"
      },
      "execution_count": null,
      "outputs": []
    },
    {
      "cell_type": "markdown",
      "source": [
        "# Total de todas las mensualidades a pagar este mes, si colocaste más de un estado de cuenta, esta cifra no te servirá"
      ],
      "metadata": {
        "id": "WBAKAglX-Uwz"
      }
    },
    {
      "cell_type": "code",
      "source": [
        "# @title\n",
        "meses_sin_intereses['PARCIAL'].sum()"
      ],
      "metadata": {
        "id": "Fg3D8WEhOWPP"
      },
      "execution_count": null,
      "outputs": []
    },
    {
      "cell_type": "markdown",
      "source": [
        "# Total de pagos a tarjeta realizados, usualmente es lo que pagaste para saldar tu tarjeta en el periodo pasado"
      ],
      "metadata": {
        "id": "NpW8Tnzg-fZ-"
      }
    },
    {
      "cell_type": "code",
      "source": [
        "# @title\n",
        "pago_tarjeta['CANTIDAD'].sum()"
      ],
      "metadata": {
        "id": "n_ZdEwd91e7A",
        "cellView": "form"
      },
      "execution_count": null,
      "outputs": []
    },
    {
      "cell_type": "markdown",
      "source": [
        "# Lista de gastos del período de mayor a menor agrupados por RFC y descripción"
      ],
      "metadata": {
        "id": "45iqYANI-ouP"
      }
    },
    {
      "cell_type": "code",
      "source": [
        "# @title\n",
        "gastos.groupby(['RFC', 'description'])['CANTIDAD'].sum().sort_values(ascending=False)"
      ],
      "metadata": {
        "id": "kX_fRIyGaf1y",
        "cellView": "form"
      },
      "execution_count": null,
      "outputs": []
    },
    {
      "cell_type": "markdown",
      "source": [
        "# Pagos realizados a capital"
      ],
      "metadata": {
        "id": "LMwW4TyvS7DF"
      }
    },
    {
      "cell_type": "code",
      "source": [
        "# @title\n",
        "pago_tarjeta"
      ],
      "metadata": {
        "id": "SpXYukf9nRdv",
        "cellView": "form"
      },
      "execution_count": null,
      "outputs": []
    },
    {
      "cell_type": "markdown",
      "source": [
        "# 6. Intentando categorizar cada gasto utilizando la descripción o concepto del gasto\n",
        "\n",
        "Aquí se utiliza un modelo de clasificación para intentar predecir el rubro de cada gasto basado en la descripción, RFC y referencia.\n",
        "\n",
        "\n",
        "\n",
        "\n"
      ],
      "metadata": {
        "id": "CaGEIIK9TBnF"
      }
    },
    {
      "cell_type": "code",
      "source": [
        "# @title\n",
        "!wget https://raw.githubusercontent.com/rockdrigoma/extraccionGastosBanco/main/text_classification_model.joblib"
      ],
      "metadata": {
        "cellView": "form",
        "id": "MDYAWDhV-Wez"
      },
      "execution_count": null,
      "outputs": []
    },
    {
      "cell_type": "code",
      "source": [
        "# @title\n",
        "from joblib import load\n",
        "\n",
        "model = load('text_classification_model.joblib')\n",
        "gastos['RUBRO'] = model.predict(gastos['description'])"
      ],
      "metadata": {
        "cellView": "form",
        "id": "JVtHCklW4gfa"
      },
      "execution_count": null,
      "outputs": []
    },
    {
      "cell_type": "markdown",
      "source": [
        "# 7. Graficando los rubros por gasto mensual"
      ],
      "metadata": {
        "id": "BPjfbcobT4an"
      }
    },
    {
      "cell_type": "markdown",
      "source": [
        "Visualizando gastos por Rubro"
      ],
      "metadata": {
        "id": "bipI2E2xWAxA"
      }
    },
    {
      "cell_type": "code",
      "source": [
        "# @title\n",
        "x_ticks = []\n",
        "for l in gastos.groupby(['RUBRO'])['CANTIDAD'].sum().sort_values(ascending=False).reset_index()['RUBRO'].to_list():\n",
        "  x_ticks.append(gastos.loc[gastos['RUBRO'] == l, 'RUBRO'].to_list()[0])\n",
        "\n",
        "to_plot = gastos.groupby(['RUBRO'])['CANTIDAD'].sum().sort_values(ascending=False)\n",
        "to_plot.index = x_ticks\n",
        "to_plot.plot(kind='bar', rot=85)"
      ],
      "metadata": {
        "id": "zOkUZdXKV2RY",
        "colab": {
          "base_uri": "https://localhost:8080/",
          "height": 559
        },
        "outputId": "b1a088ed-0fbf-4aa4-8bd9-9b306f690009"
      },
      "execution_count": 33,
      "outputs": [
        {
          "output_type": "execute_result",
          "data": {
            "text/plain": [
              "<Axes: >"
            ]
          },
          "metadata": {},
          "execution_count": 33
        },
        {
          "output_type": "display_data",
          "data": {
            "text/plain": [
              "<Figure size 640x480 with 1 Axes>"
            ],
            "image/png": "[encoded data removed]"
          },
          "metadata": {}
        }
      ]
    },
    {
      "cell_type": "markdown",
      "source": [
        "# 8. Gráfica de pastel de los mismos rubros"
      ],
      "metadata": {
        "id": "wDRILSK8UB9F"
      }
    },
    {
      "cell_type": "code",
      "source": [
        "# @title\n",
        "to_plot.plot.pie(y='CANTIDAD', figsize=(12, 12), autopct='%1.1f%%', labeldistance=1.1, textprops={'size': 'smaller'})"
      ],
      "metadata": {
        "id": "ODTzUtKw4dZW",
        "colab": {
          "base_uri": "https://localhost:8080/",
          "height": 978
        },
        "outputId": "b2894480-40d0-4090-cbe3-04ebdb1ab3e6",
        "cellView": "form"
      },
      "execution_count": 34,
      "outputs": [
        {
          "output_type": "execute_result",
          "data": {
            "text/plain": [
              "<Axes: ylabel='CANTIDAD'>"
            ]
          },
          "metadata": {},
          "execution_count": 34
        },
        {
          "output_type": "display_data",
          "data": {
            "text/plain": [
              "<Figure size 1200x1200 with 1 Axes>"
            ],
            "image/png": "[encoded data removed]"
          },
          "metadata": {}
        }
      ]
    },
    {
      "cell_type": "markdown",
      "source": [
        "# 9. Lista de gastos por rubro de mayor a menor"
      ],
      "metadata": {
        "id": "Y31n8MhTUI4_"
      }
    },
    {
      "cell_type": "code",
      "source": [
        "# @title\n",
        "gastos.groupby(['RUBRO'])['CANTIDAD'].sum().sort_values(ascending=False)"
      ],
      "metadata": {
        "id": "28a9FZ8iQrcW",
        "cellView": "form"
      },
      "execution_count": null,
      "outputs": []
    },
    {
      "cell_type": "markdown",
      "source": [
        "# 10. Si ves que hay demasiados gastos etiquetados como OTROS, el modelo podría requerir más entrenamiento. Puedes reportarlo en el repo de github para mejorarlo."
      ],
      "metadata": {
        "id": "1DpY5eh4UWaH"
      }
    },
    {
      "cell_type": "code",
      "source": [
        "# @title\n",
        "gastos.loc[gastos['RUBRO'] == 'OTROS'].sort_values(by='CANTIDAD', ascending=False)"
      ],
      "metadata": {
        "id": "wXA_G0qmUmnV",
        "cellView": "form"
      },
      "execution_count": null,
      "outputs": []
    },
    {
      "cell_type": "markdown",
      "source": [
        "# Aquí no deberían aparecer renglones que parezcan cargos. Si aparecen significa que se descartaron y no fueron tomados en cuenta.\n",
        "\n",
        "Lo esperado son renglones como:\n",
        "\n",
        "`\\x17?{]IVH#\\x1dT9\\x1cd;eZY\\x04\\x17~IE{+X\\1eh7R1$\\x0fl'gq}\\x1cwUBMI`"
      ],
      "metadata": {
        "id": "oaHQbdqA5jR3"
      }
    },
    {
      "cell_type": "code",
      "source": [
        "# @title\n",
        "[i for i in not_matching if (('/' in i or '-' in i) and '$' in i and 'USD' not in i and 'TOTAL IMPORTES:' not in i and 'Rendimiento' not in i and 'Crédito Disponible' not in i and 'Límite de Crédito' not in i and 'Pagos' not in i and 'Ponemos a su dispo' not in i)]"
      ],
      "metadata": {
        "cellView": "form",
        "id": "9BHXA5T08t6P"
      },
      "execution_count": null,
      "outputs": []
    },
    {
      "cell_type": "markdown",
      "source": [
        "# FINALMENTE AQUÍ PUEDES DESCARGAR LA INFO EN FORMATO CSV PARA QUE LA UTILICES COMO QUIERAS"
      ],
      "metadata": {
        "id": "_HE2ubkH7Qb7"
      }
    },
    {
      "cell_type": "code",
      "source": [
        "gastos.to_csv('gastos.csv')\n",
        "devoluciones.to_csv('devoluciones.csv')\n",
        "mensualidades.to_csv('mensualidades.csv')\n",
        "meses_sin_intereses.to_csv('meses_sin_intereses.csv')\n",
        "pago_tarjeta.to_csv('pago_tarjeta.csv')"
      ],
      "metadata": {
        "id": "J1C5Hb1NhE46"
      },
      "execution_count": null,
      "outputs": []
    }
  ]
}